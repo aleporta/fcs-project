{
 "cells": [
  {
   "cell_type": "code",
   "execution_count": 1,
   "metadata": {},
   "outputs": [],
   "source": [
    "#import libraries\n",
    "import pandas as pd\n",
    "from datetime import datetime\n",
    "from datetime import timedelta\n",
    "\n",
    "pd.options.display.max_columns = None # no limits to columns display"
   ]
  },
  {
   "cell_type": "code",
   "execution_count": 2,
   "metadata": {
    "scrolled": true
   },
   "outputs": [],
   "source": [
    "#import datasets\n",
    "path = \"\"\n",
    "loans_lenders = pd.read_csv(\"loans_lenders.csv\", nrows=100000)\n",
    "lenders = pd.read_csv(\"lenders.csv\")\n",
    "loans = pd.read_csv(\"loans.csv\", nrows=100000)"
   ]
  },
  {
   "cell_type": "code",
   "execution_count": 3,
   "metadata": {},
   "outputs": [],
   "source": [
    "# 1) Normalize the loan_lenders table. In the normalized table, each row must have one loan_id and one lenders\n",
    "#FUNZIONA\n",
    "\n",
    "loans_lenders = pd.concat([pd.Series(row['loan_id'], row['lenders'].split(',')) for _,row in loans_lenders.iterrows()]).reset_index()\n",
    "loans_lenders.columns = ['permanent_name', 'loan_id']"
   ]
  },
  {
   "cell_type": "code",
   "execution_count": 4,
   "metadata": {},
   "outputs": [],
   "source": [
    "# 2) For each loan, add a column duration corresponding to the number of days between \n",
    "#the disburse time and the planned expiration time. \n",
    "#FUNZIONA\n",
    "def time_delta(y,x): \n",
    "    end = pd.to_datetime(y)\n",
    "    start = pd.to_datetime(x)\n",
    "    delta = end-start\n",
    "    return delta\n",
    "\n",
    "loans[\"duration\"] =  time_delta(loans.planned_expiration_time, loans.disburse_time)\n"
   ]
  },
  {
   "cell_type": "code",
   "execution_count": 5,
   "metadata": {},
   "outputs": [
    {
     "data": {
      "text/html": [
       "<div>\n",
       "<style scoped>\n",
       "    .dataframe tbody tr th:only-of-type {\n",
       "        vertical-align: middle;\n",
       "    }\n",
       "\n",
       "    .dataframe tbody tr th {\n",
       "        vertical-align: top;\n",
       "    }\n",
       "\n",
       "    .dataframe thead th {\n",
       "        text-align: right;\n",
       "    }\n",
       "</style>\n",
       "<table border=\"1\" class=\"dataframe\">\n",
       "  <thead>\n",
       "    <tr style=\"text-align: right;\">\n",
       "      <th></th>\n",
       "      <th>number_of_loans</th>\n",
       "    </tr>\n",
       "    <tr>\n",
       "      <th>permanent_name</th>\n",
       "      <th></th>\n",
       "    </tr>\n",
       "  </thead>\n",
       "  <tbody>\n",
       "    <tr>\n",
       "      <td>000</td>\n",
       "      <td>3</td>\n",
       "    </tr>\n",
       "    <tr>\n",
       "      <td>00000</td>\n",
       "      <td>5</td>\n",
       "    </tr>\n",
       "    <tr>\n",
       "      <td>0002</td>\n",
       "      <td>3</td>\n",
       "    </tr>\n",
       "    <tr>\n",
       "      <td>0101craign0101</td>\n",
       "      <td>4</td>\n",
       "    </tr>\n",
       "    <tr>\n",
       "      <td>0326lsw</td>\n",
       "      <td>3</td>\n",
       "    </tr>\n",
       "  </tbody>\n",
       "</table>\n",
       "</div>"
      ],
      "text/plain": [
       "                 number_of_loans\n",
       "permanent_name                  \n",
       " 000                           3\n",
       " 00000                         5\n",
       " 0002                          3\n",
       " 0101craign0101                4\n",
       " 0326lsw                       3"
      ]
     },
     "execution_count": 5,
     "metadata": {},
     "output_type": "execute_result"
    }
   ],
   "source": [
    "# 3) find the \"lenders\" that have funded at least twice.\n",
    "# FUNZIONA\n",
    "not_unique_lenders = loans_lenders.groupby(\"permanent_name\").size()\n",
    "not_unique_lenders = pd.DataFrame(not_unique_lenders[not_unique_lenders  > 1])\n",
    "not_unique_lenders.columns = [\"number_of_loans\"]\n",
    "not_unique_lenders.head()"
   ]
  },
  {
   "cell_type": "code",
   "execution_count": 6,
   "metadata": {},
   "outputs": [],
   "source": [
    "#4) For each country, compute how many loans have involved that country as borrowers.\n",
    "#5) For each country, compute the overall amount of money borrowed.\n",
    "# FUNZIONA\n",
    "aggregate_state = pd.concat([\n",
    "    loans.groupby(['country_code']).count()['loan_id'],\n",
    "    loans.groupby(['country_code']).sum()['funded_amount']], axis = 1)\n",
    "aggregate_state.columns = ('count_loans', 'amount_loans')"
   ]
  },
  {
   "cell_type": "code",
   "execution_count": 7,
   "metadata": {},
   "outputs": [],
   "source": [
    "# 6) Like the previous point, but expressed as a percentage of the overall amount lent.\n",
    "# FUNZIONA\n",
    "merged = loans.merge(loans_lenders,on='loan_id').merge(lenders,on='permanent_name')\n",
    "lent = merged.groupby(['country_code_y'])['funded_amount'].sum()\n",
    "aggregate_state = pd.concat([aggregate_state,lent],axis=1,ignore_index=True, sort=False).fillna(0)\n",
    "aggregate_state.columns = ('count_loans', 'amount_loans', 'lent_amount')\n",
    "aggregate_state[\"percentage\"] = aggregate_state[\"lent_amount\"] / aggregate_state[\"amount_loans\"] *100"
   ]
  },
  {
   "cell_type": "code",
   "execution_count": 8,
   "metadata": {},
   "outputs": [
    {
     "data": {
      "text/html": [
       "<div>\n",
       "<style scoped>\n",
       "    .dataframe tbody tr th:only-of-type {\n",
       "        vertical-align: middle;\n",
       "    }\n",
       "\n",
       "    .dataframe tbody tr th {\n",
       "        vertical-align: top;\n",
       "    }\n",
       "\n",
       "    .dataframe thead th {\n",
       "        text-align: right;\n",
       "    }\n",
       "</style>\n",
       "<table border=\"1\" class=\"dataframe\">\n",
       "  <thead>\n",
       "    <tr style=\"text-align: right;\">\n",
       "      <th></th>\n",
       "      <th>count_loans</th>\n",
       "      <th>amount_loans</th>\n",
       "      <th>lent_amount</th>\n",
       "      <th>percentage</th>\n",
       "    </tr>\n",
       "  </thead>\n",
       "  <tbody>\n",
       "    <tr>\n",
       "      <td>AF</td>\n",
       "      <td>98.0</td>\n",
       "      <td>86125.0</td>\n",
       "      <td>700.0</td>\n",
       "      <td>0.812772</td>\n",
       "    </tr>\n",
       "    <tr>\n",
       "      <td>AL</td>\n",
       "      <td>241.0</td>\n",
       "      <td>314775.0</td>\n",
       "      <td>1400.0</td>\n",
       "      <td>0.444762</td>\n",
       "    </tr>\n",
       "    <tr>\n",
       "      <td>AM</td>\n",
       "      <td>971.0</td>\n",
       "      <td>1429575.0</td>\n",
       "      <td>0.0</td>\n",
       "      <td>0.000000</td>\n",
       "    </tr>\n",
       "    <tr>\n",
       "      <td>AZ</td>\n",
       "      <td>661.0</td>\n",
       "      <td>1043300.0</td>\n",
       "      <td>475.0</td>\n",
       "      <td>0.045529</td>\n",
       "    </tr>\n",
       "    <tr>\n",
       "      <td>BA</td>\n",
       "      <td>29.0</td>\n",
       "      <td>20475.0</td>\n",
       "      <td>1725.0</td>\n",
       "      <td>8.424908</td>\n",
       "    </tr>\n",
       "    <tr>\n",
       "      <td>...</td>\n",
       "      <td>...</td>\n",
       "      <td>...</td>\n",
       "      <td>...</td>\n",
       "      <td>...</td>\n",
       "    </tr>\n",
       "    <tr>\n",
       "      <td>UM</td>\n",
       "      <td>0.0</td>\n",
       "      <td>0.0</td>\n",
       "      <td>2375.0</td>\n",
       "      <td>inf</td>\n",
       "    </tr>\n",
       "    <tr>\n",
       "      <td>UY</td>\n",
       "      <td>0.0</td>\n",
       "      <td>0.0</td>\n",
       "      <td>3775.0</td>\n",
       "      <td>inf</td>\n",
       "    </tr>\n",
       "    <tr>\n",
       "      <td>VE</td>\n",
       "      <td>0.0</td>\n",
       "      <td>0.0</td>\n",
       "      <td>2150.0</td>\n",
       "      <td>inf</td>\n",
       "    </tr>\n",
       "    <tr>\n",
       "      <td>VI</td>\n",
       "      <td>0.0</td>\n",
       "      <td>0.0</td>\n",
       "      <td>1250.0</td>\n",
       "      <td>inf</td>\n",
       "    </tr>\n",
       "    <tr>\n",
       "      <td>VU</td>\n",
       "      <td>0.0</td>\n",
       "      <td>0.0</td>\n",
       "      <td>12425.0</td>\n",
       "      <td>inf</td>\n",
       "    </tr>\n",
       "  </tbody>\n",
       "</table>\n",
       "<p>166 rows × 4 columns</p>\n",
       "</div>"
      ],
      "text/plain": [
       "    count_loans  amount_loans  lent_amount  percentage\n",
       "AF         98.0       86125.0        700.0    0.812772\n",
       "AL        241.0      314775.0       1400.0    0.444762\n",
       "AM        971.0     1429575.0          0.0    0.000000\n",
       "AZ        661.0     1043300.0        475.0    0.045529\n",
       "BA         29.0       20475.0       1725.0    8.424908\n",
       "..          ...           ...          ...         ...\n",
       "UM          0.0           0.0       2375.0         inf\n",
       "UY          0.0           0.0       3775.0         inf\n",
       "VE          0.0           0.0       2150.0         inf\n",
       "VI          0.0           0.0       1250.0         inf\n",
       "VU          0.0           0.0      12425.0         inf\n",
       "\n",
       "[166 rows x 4 columns]"
      ]
     },
     "execution_count": 8,
     "metadata": {},
     "output_type": "execute_result"
    }
   ],
   "source": [
    "aggregate_state"
   ]
  },
  {
   "cell_type": "code",
   "execution_count": 9,
   "metadata": {},
   "outputs": [],
   "source": [
    "# 7) Like the three previous points, but split for each year (with respect to disburse time).\n",
    "# FUNZIONA\n",
    "loans['disburse_time'] = pd.to_datetime(loans['disburse_time'])\n",
    "loans['year'] = loans['disburse_time'].dt.year\n",
    "aggregate_state_years = pd.concat([\n",
    "    loans.groupby(['country_code', 'year']).count()['loan_id'],\n",
    "    loans.groupby(['country_code', 'year']).sum()['funded_amount']], axis = 1)\n",
    "aggregate_state_years.columns = ('count_loans', 'amount_loans')"
   ]
  },
  {
   "cell_type": "code",
   "execution_count": 10,
   "metadata": {},
   "outputs": [
    {
     "data": {
      "text/html": [
       "<div>\n",
       "<style scoped>\n",
       "    .dataframe tbody tr th:only-of-type {\n",
       "        vertical-align: middle;\n",
       "    }\n",
       "\n",
       "    .dataframe tbody tr th {\n",
       "        vertical-align: top;\n",
       "    }\n",
       "\n",
       "    .dataframe thead th {\n",
       "        text-align: right;\n",
       "    }\n",
       "</style>\n",
       "<table border=\"1\" class=\"dataframe\">\n",
       "  <thead>\n",
       "    <tr style=\"text-align: right;\">\n",
       "      <th></th>\n",
       "      <th></th>\n",
       "      <th>count_loans</th>\n",
       "      <th>amount_loans</th>\n",
       "    </tr>\n",
       "    <tr>\n",
       "      <th>country_code</th>\n",
       "      <th>year</th>\n",
       "      <th></th>\n",
       "      <th></th>\n",
       "    </tr>\n",
       "  </thead>\n",
       "  <tbody>\n",
       "    <tr>\n",
       "      <td rowspan=\"5\" valign=\"top\">AF</td>\n",
       "      <td>2007.0</td>\n",
       "      <td>10</td>\n",
       "      <td>5750.0</td>\n",
       "    </tr>\n",
       "    <tr>\n",
       "      <td>2008.0</td>\n",
       "      <td>6</td>\n",
       "      <td>5875.0</td>\n",
       "    </tr>\n",
       "    <tr>\n",
       "      <td>2009.0</td>\n",
       "      <td>51</td>\n",
       "      <td>44950.0</td>\n",
       "    </tr>\n",
       "    <tr>\n",
       "      <td>2010.0</td>\n",
       "      <td>25</td>\n",
       "      <td>23450.0</td>\n",
       "    </tr>\n",
       "    <tr>\n",
       "      <td>2011.0</td>\n",
       "      <td>6</td>\n",
       "      <td>6100.0</td>\n",
       "    </tr>\n",
       "    <tr>\n",
       "      <td>...</td>\n",
       "      <td>...</td>\n",
       "      <td>...</td>\n",
       "      <td>...</td>\n",
       "    </tr>\n",
       "    <tr>\n",
       "      <td rowspan=\"5\" valign=\"top\">ZW</td>\n",
       "      <td>2013.0</td>\n",
       "      <td>36</td>\n",
       "      <td>53000.0</td>\n",
       "    </tr>\n",
       "    <tr>\n",
       "      <td>2014.0</td>\n",
       "      <td>177</td>\n",
       "      <td>107950.0</td>\n",
       "    </tr>\n",
       "    <tr>\n",
       "      <td>2015.0</td>\n",
       "      <td>32</td>\n",
       "      <td>30450.0</td>\n",
       "    </tr>\n",
       "    <tr>\n",
       "      <td>2016.0</td>\n",
       "      <td>46</td>\n",
       "      <td>47050.0</td>\n",
       "    </tr>\n",
       "    <tr>\n",
       "      <td>2017.0</td>\n",
       "      <td>78</td>\n",
       "      <td>81000.0</td>\n",
       "    </tr>\n",
       "  </tbody>\n",
       "</table>\n",
       "<p>674 rows × 2 columns</p>\n",
       "</div>"
      ],
      "text/plain": [
       "                     count_loans  amount_loans\n",
       "country_code year                             \n",
       "AF           2007.0           10        5750.0\n",
       "             2008.0            6        5875.0\n",
       "             2009.0           51       44950.0\n",
       "             2010.0           25       23450.0\n",
       "             2011.0            6        6100.0\n",
       "...                          ...           ...\n",
       "ZW           2013.0           36       53000.0\n",
       "             2014.0          177      107950.0\n",
       "             2015.0           32       30450.0\n",
       "             2016.0           46       47050.0\n",
       "             2017.0           78       81000.0\n",
       "\n",
       "[674 rows x 2 columns]"
      ]
     },
     "execution_count": 10,
     "metadata": {},
     "output_type": "execute_result"
    }
   ],
   "source": [
    "aggregate_state_years"
   ]
  },
  {
   "cell_type": "code",
   "execution_count": 11,
   "metadata": {},
   "outputs": [],
   "source": [
    "# 8) For each lender, compute the overall amount of money lent.\n",
    "# FUNZIONA\n",
    "merged['single_loan_amount']= merged['funded_amount'] / merged['num_lenders_total']\n",
    "lender_amount = merged.groupby(['permanent_name']).sum()['single_loan_amount']"
   ]
  },
  {
   "cell_type": "code",
   "execution_count": 12,
   "metadata": {},
   "outputs": [],
   "source": [
    "# 9) For each country, compute the difference between the overall amount of money lent and the overall amount of money borrowed.\n",
    "aggregate_state[\"difference\"] = aggregate_state[\"lent_amount\"] - aggregate_state[\"amount_loans\"]"
   ]
  },
  {
   "cell_type": "code",
   "execution_count": 13,
   "metadata": {},
   "outputs": [],
   "source": [
    "country_stats =pd.read_csv(\"country_stats.csv\")\n",
    "aggregate_state.reset_index(inplace = True)\n",
    "aggregate_state=aggregate_state.rename(columns = {'index':'country_code'})\n",
    "aggregate_state_extended = aggregate_state.merge(country_stats, on = \"country_code\")"
   ]
  },
  {
   "cell_type": "code",
   "execution_count": 14,
   "metadata": {},
   "outputs": [
    {
     "data": {
      "text/plain": [
       "country_code                                  NO\n",
       "count_loans                                    0\n",
       "amount_loans                                   0\n",
       "lent_amount                               509325\n",
       "percentage                                   inf\n",
       "difference                                509325\n",
       "country_name                              Norway\n",
       "country_code3                                NOR\n",
       "continent                                 Europe\n",
       "region                           Northern Europe\n",
       "population                               5305383\n",
       "population_below_poverty_line                NaN\n",
       "hdi                                     0.949423\n",
       "life_expectancy                           81.711\n",
       "expected_years_of_schooling              17.6719\n",
       "mean_years_of_schooling                  12.7464\n",
       "gni                                      67614.4\n",
       "kiva_country_name                         Norway\n",
       "ratio                                  0.0960016\n",
       "Name: 125, dtype: object"
      ]
     },
     "execution_count": 14,
     "metadata": {},
     "output_type": "execute_result"
    }
   ],
   "source": [
    "# 10) Which country has the highest ratio between the difference computed at the previous point and the population?\n",
    "# FUNZIONA\n",
    "aggregate_state_extended['ratio'] = aggregate_state_extended['difference'] / aggregate_state_extended['population']\n",
    "aggregate_state_extended.iloc[aggregate_state_extended['ratio'].idxmax()]"
   ]
  },
  {
   "cell_type": "code",
   "execution_count": 15,
   "metadata": {},
   "outputs": [
    {
     "data": {
      "text/plain": [
       "country_code                                   CA\n",
       "count_loans                                     0\n",
       "amount_loans                                    0\n",
       "lent_amount                           3.22205e+06\n",
       "percentage                                    inf\n",
       "difference                            3.22205e+06\n",
       "country_name                               Canada\n",
       "country_code3                                 CAN\n",
       "continent                                Americas\n",
       "region                           Northern America\n",
       "population                               36624199\n",
       "population_below_poverty_line                 9.4\n",
       "hdi                                      0.920284\n",
       "life_expectancy                            82.224\n",
       "expected_years_of_schooling                16.325\n",
       "mean_years_of_schooling                   13.1051\n",
       "gni                                       42581.9\n",
       "kiva_country_name                          Canada\n",
       "ratio                                    0.087976\n",
       "ratio_not_poverty                     0.000971037\n",
       "Name: 90, dtype: object"
      ]
     },
     "execution_count": 15,
     "metadata": {},
     "output_type": "execute_result"
    }
   ],
   "source": [
    "#11) Which country has the highest ratio between the difference computed at point 9 and the population that is not below the poverty line?\n",
    "aggregate_state_extended['ratio_not_poverty'] = aggregate_state_extended['difference'] / (aggregate_state_extended['population'] * (100 - aggregate_state_extended['population_below_poverty_line'] ))\n",
    "aggregate_state_extended.iloc[aggregate_state_extended['ratio_not_poverty'].idxmax()]"
   ]
  },
  {
   "cell_type": "code",
   "execution_count": 16,
   "metadata": {},
   "outputs": [
    {
     "data": {
      "text/html": [
       "<div>\n",
       "<style scoped>\n",
       "    .dataframe tbody tr th:only-of-type {\n",
       "        vertical-align: middle;\n",
       "    }\n",
       "\n",
       "    .dataframe tbody tr th {\n",
       "        vertical-align: top;\n",
       "    }\n",
       "\n",
       "    .dataframe thead th {\n",
       "        text-align: right;\n",
       "    }\n",
       "</style>\n",
       "<table border=\"1\" class=\"dataframe\">\n",
       "  <thead>\n",
       "    <tr style=\"text-align: right;\">\n",
       "      <th></th>\n",
       "      <th>amount</th>\n",
       "    </tr>\n",
       "    <tr>\n",
       "      <th>year</th>\n",
       "      <th></th>\n",
       "    </tr>\n",
       "  </thead>\n",
       "  <tbody>\n",
       "    <tr>\n",
       "      <td>2013</td>\n",
       "      <td>1.421598e+07</td>\n",
       "    </tr>\n",
       "    <tr>\n",
       "      <td>2014</td>\n",
       "      <td>1.474127e+07</td>\n",
       "    </tr>\n",
       "    <tr>\n",
       "      <td>2015</td>\n",
       "      <td>8.377948e+06</td>\n",
       "    </tr>\n",
       "    <tr>\n",
       "      <td>2012</td>\n",
       "      <td>9.098303e+06</td>\n",
       "    </tr>\n",
       "    <tr>\n",
       "      <td>2016</td>\n",
       "      <td>9.028823e+06</td>\n",
       "    </tr>\n",
       "    <tr>\n",
       "      <td>2017</td>\n",
       "      <td>1.167408e+07</td>\n",
       "    </tr>\n",
       "    <tr>\n",
       "      <td>2018</td>\n",
       "      <td>2.353648e+05</td>\n",
       "    </tr>\n",
       "    <tr>\n",
       "      <td>2011</td>\n",
       "      <td>2.218274e+04</td>\n",
       "    </tr>\n",
       "  </tbody>\n",
       "</table>\n",
       "</div>"
      ],
      "text/plain": [
       "            amount\n",
       "year              \n",
       "2013  1.421598e+07\n",
       "2014  1.474127e+07\n",
       "2015  8.377948e+06\n",
       "2012  9.098303e+06\n",
       "2016  9.028823e+06\n",
       "2017  1.167408e+07\n",
       "2018  2.353648e+05\n",
       "2011  2.218274e+04"
      ]
     },
     "execution_count": 16,
     "metadata": {},
     "output_type": "execute_result"
    }
   ],
   "source": [
    "#12\n",
    "loans['planned_expiration_time'] = pd.to_datetime(loans['planned_expiration_time'])\n",
    "def delta_date(start, stop):\n",
    "    delta = stop - start\n",
    "    \n",
    "    if delta.days < 0 or pd.isnull(start) or pd.isnull(stop): #check error\n",
    "        return {}\n",
    "    years = {}\n",
    "    for i in range(delta.days + 1):\n",
    "        day = start + timedelta(days=i)\n",
    "        if not day.year in years:\n",
    "            years[day.year] = 1;\n",
    "        else:\n",
    "            years[day.year] += 1\n",
    "    return years\n",
    "group_years = pd.DataFrame(columns = [\"year\",\"amount\"])\n",
    "group_years.set_index('year', inplace=True)\n",
    "for _, row in loans.iterrows():\n",
    "    years = delta_date(row[\"disburse_time\"], row[\"planned_expiration_time\"])\n",
    "    if (row[\"planned_expiration_time\"] - row[\"disburse_time\"]).days == 0:\n",
    "        continue\n",
    "    per_day = row[\"loan_amount\"] / (row[\"planned_expiration_time\"] - row[\"disburse_time\"]).days \n",
    "    for key, value in years.items():\n",
    "        if key not in group_years.index:\n",
    "            group_years.loc[key] = per_day * value\n",
    "        else:\n",
    "           group_years[\"amount\"][key] += per_day * value\n",
    "group_years"
   ]
  },
  {
   "cell_type": "code",
   "execution_count": 17,
   "metadata": {},
   "outputs": [],
   "source": [
    "#2.1 For each value of repayment_interval, add a new column to the lenders dataframe \n",
    "#that contains the total amount of money corresponding to loans in such state\n",
    "merged = pd.merge(merged, merged.pivot(index = 'loan_id', columns='repayment_interval', values='single_loan_amount').fillna(0), on='loan_id')\n",
    "lenders = pd.merge(lenders, merged[['bullet', 'irregular', 'monthly', 'weekly', 'permanent_name']], on='permanent_name', how='inner')"
   ]
  },
  {
   "cell_type": "code",
   "execution_count": 18,
   "metadata": {},
   "outputs": [
    {
     "data": {
      "text/plain": [
       "activity_name         General Store\n",
       "single_loan_amount           241012\n",
       "Name: 70, dtype: object"
      ]
     },
     "execution_count": 18,
     "metadata": {},
     "output_type": "execute_result"
    }
   ],
   "source": [
    "#2.2 What is the occupation with the highest average amount of money lent (the average must be computed over all lenders with a given occupation)?\n",
    "occupation = pd.DataFrame(merged.groupby(['activity_name']).sum()['single_loan_amount'])\n",
    "occupation.reset_index(level=0, inplace=True)\n",
    "max_occupation = occupation['single_loan_amount'].idxmax()\n",
    "occupation.loc[max_occupation]"
   ]
  },
  {
   "cell_type": "code",
   "execution_count": 19,
   "metadata": {},
   "outputs": [],
   "source": [
    "#2.3 Cluster the loans according to the year-month of disburse time.\n",
    "clusters = [x for _, x in loans.groupby([(loans['disburse_time'].dt.year) , (loans['disburse_time'].dt.month)])]"
   ]
  },
  {
   "cell_type": "code",
   "execution_count": 20,
   "metadata": {},
   "outputs": [],
   "source": [
    "#2.4 For each country, compute its overall GNI, by multiplying the per capita GNI with its population.\n",
    "country_stats = pd.read_csv('country_stats.csv')\n",
    "country_stats['overall_GNI'] = country_stats['gni'] * country_stats['population']"
   ]
  },
  {
   "cell_type": "code",
   "execution_count": null,
   "metadata": {},
   "outputs": [],
   "source": []
  },
  {
   "cell_type": "code",
   "execution_count": null,
   "metadata": {},
   "outputs": [],
   "source": []
  },
  {
   "cell_type": "code",
   "execution_count": null,
   "metadata": {},
   "outputs": [],
   "source": []
  }
 ],
 "metadata": {
  "kernelspec": {
   "display_name": "Python 3",
   "language": "python",
   "name": "python3"
  },
  "language_info": {
   "codemirror_mode": {
    "name": "ipython",
    "version": 3
   },
   "file_extension": ".py",
   "mimetype": "text/x-python",
   "name": "python",
   "nbconvert_exporter": "python",
   "pygments_lexer": "ipython3",
   "version": "3.7.4"
  }
 },
 "nbformat": 4,
 "nbformat_minor": 4
}
