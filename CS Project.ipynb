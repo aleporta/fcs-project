{
 "cells": [
  {
   "cell_type": "code",
   "execution_count": 1,
   "metadata": {},
   "outputs": [],
   "source": [
    "#import libraries\n",
    "import pandas as pd\n",
    "from datetime import datetime\n",
    "pd.options.display.max_columns = None # no limits to columns display"
   ]
  },
  {
   "cell_type": "code",
   "execution_count": 2,
   "metadata": {
    "scrolled": true
   },
   "outputs": [],
   "source": [
    "#import datasets\n",
    "loans_lenders = pd.read_csv(\"data/loans_lenders.csv\")\n",
    "lenders = pd.read_csv(\"data/lenders.csv\")\n",
    "loans = pd.read_csv(\"data/loans.csv\")"
   ]
  },
  {
   "cell_type": "code",
   "execution_count": 5,
   "metadata": {},
   "outputs": [],
   "source": [
    "# 1) Normalize the loan_lenders table. In the normalized table, each row must have one loan_id and one lenders\n",
    "#FUNZIONA\n",
    "loans_lenders = loans_lenders.astype(str).applymap(lambda x: x.split(',')[0])\n",
    "loans_lenders.columns = [\"loan_id\", \"permanent_name\"]\n",
    "loans_lenders[\"loan_id\"] = loans_lenders[\"loan_id\"].astype(int)"
   ]
  },
  {
   "cell_type": "code",
   "execution_count": 56,
   "metadata": {},
   "outputs": [],
   "source": [
    "# 2) For each loan, add a column duration corresponding to the number of days between \n",
    "#the disburse time and the planned expiration time. FUNZIONA\n",
    "def time_delta(y,x): \n",
    "    end = pd.to_datetime(y)\n",
    "    start = pd.to_datetime(x)\n",
    "    delta = end-start\n",
    "    return delta\n",
    "\n",
    "loans[\"duration\"] =  time_delta(loans.planned_expiration_time, loans.disburse_time)"
   ]
  },
  {
   "cell_type": "code",
   "execution_count": 37,
   "metadata": {},
   "outputs": [],
   "source": [
    "# 3) find the borrowers that have funded at least twice.\n",
    "not_unique_borrowers = loans.groupby(\"loan_name\").size()\n",
    "not_unique_borrowers = pd.DataFrame(not_unique_borrowers[not_unique_borrowers  > 1])\n",
    "not_unique_borrowers.columns = [\"number_of_loans\"]"
   ]
  },
  {
   "cell_type": "code",
   "execution_count": 229,
   "metadata": {},
   "outputs": [],
   "source": [
    "#4) For each country, compute how many loans have involved that country as borrowers.\n",
    "#5) For each country, compute the overall amount of money borrowed.\n",
    "aggregate_state = pd.concat([\n",
    "    loans.groupby(['country_code']).count()['loan_id'],\n",
    "    loans.groupby(['country_code']).sum()['funded_amount']], axis = 1)\n",
    "aggregate_state.columns = ('count_loans', 'amount_loans')"
   ]
  },
  {
   "cell_type": "code",
   "execution_count": 59,
   "metadata": {},
   "outputs": [],
   "source": [
    "# 6) Like the previous point, but expressed as a percentage of the overall amount lent.\n",
    "merged = loans.merge(loans_lenders,on='loan_id').merge(lenders,on='permanent_name')\n"
   ]
  },
  {
   "cell_type": "code",
   "execution_count": 230,
   "metadata": {},
   "outputs": [
    {
     "name": "stderr",
     "output_type": "stream",
     "text": [
      "C:\\Users\\Ale\\Anaconda3\\lib\\site-packages\\ipykernel_launcher.py:2: FutureWarning: Sorting because non-concatenation axis is not aligned. A future version\n",
      "of pandas will change to not sort by default.\n",
      "\n",
      "To accept the future behavior, pass 'sort=False'.\n",
      "\n",
      "To retain the current behavior and silence the warning, pass 'sort=True'.\n",
      "\n",
      "  \n"
     ]
    }
   ],
   "source": [
    "lent = merged.groupby(['country_code_y'])['funded_amount'].sum()\n",
    "aggregate_state = pd.concat([aggregate_state,lent],axis=1,ignore_index=True).fillna(0)\n",
    "aggregate_state.columns = ('count_loans', 'amount_loans', 'lent_amount')\n",
    "aggregate_state[\"percentage\"] = aggregate_state[\"lent_amount\"] / aggregate_state[\"amount_loans\"] *100"
   ]
  },
  {
   "cell_type": "code",
   "execution_count": null,
   "metadata": {},
   "outputs": [],
   "source": [
    "# 7) Like the three previous points, but split for each year (with respect to disburse time)."
   ]
  },
  {
   "cell_type": "code",
   "execution_count": 204,
   "metadata": {},
   "outputs": [],
   "source": [
    "# 8) For each lender, compute the overall amount of money lent.\n",
    "aggregate_lenders = pd.DataFrame(merged.groupby(\"permanent_name\").sum()[\"funded_amount\"])"
   ]
  },
  {
   "cell_type": "code",
   "execution_count": 231,
   "metadata": {},
   "outputs": [],
   "source": [
    "# 9) For each country, compute the difference between the overall amount of money lent and the overall amount of money borrowed.\n",
    "aggregate_state[\"difference\"] = aggregate_state[\"lent_amount\"] - aggregate_state[\"amount_loans\"]"
   ]
  },
  {
   "cell_type": "code",
   "execution_count": 232,
   "metadata": {},
   "outputs": [],
   "source": [
    "country_stats =pd.read_csv(\"data/country_stats.csv\")\n",
    "aggregate_state.reset_index(inplace = True)\n",
    "aggregate_state=aggregate_state.rename(columns = {'index':'country_code'})\n",
    "aggregate_state_extended = aggregate_state.merge(country_stats, on = \"country_code\")"
   ]
  },
  {
   "cell_type": "code",
   "execution_count": 239,
   "metadata": {},
   "outputs": [
    {
     "name": "stderr",
     "output_type": "stream",
     "text": [
      "C:\\Users\\Ale\\Anaconda3\\lib\\site-packages\\ipykernel_launcher.py:3: FutureWarning: 'argmax' is deprecated, use 'idxmax' instead. The behavior of 'argmax'\n",
      "will be corrected to return the positional maximum in the future.\n",
      "Use 'series.values.argmax' to get the position of the maximum now.\n",
      "  This is separate from the ipykernel package so we can avoid doing imports until\n"
     ]
    },
    {
     "data": {
      "text/plain": [
       "country_code                                  NO\n",
       "count_loans                                    0\n",
       "amount_loans                                   0\n",
       "lent_amount                          1.25222e+07\n",
       "percentage                                   inf\n",
       "difference                           1.25222e+07\n",
       "country_name                              Norway\n",
       "country_code3                                NOR\n",
       "continent                                 Europe\n",
       "region                           Northern Europe\n",
       "population                               5305383\n",
       "population_below_poverty_line                NaN\n",
       "hdi                                     0.949423\n",
       "life_expectancy                           81.711\n",
       "expected_years_of_schooling              17.6719\n",
       "mean_years_of_schooling                  12.7464\n",
       "gni                                      67614.4\n",
       "kiva_country_name                         Norway\n",
       "ratio                                    2.36027\n",
       "Name: 109, dtype: object"
      ]
     },
     "execution_count": 239,
     "metadata": {},
     "output_type": "execute_result"
    }
   ],
   "source": [
    "# 10) Which country has the highest ratio between the difference computed at the previous point and the population?\n",
    "aggregate_state_extended['ratio'] = aggregate_state_extended['difference'] / aggregate_state_extended['population']\n",
    "aggregate_state_extended.iloc[aggregate_state_extended['ratio'].argmax()]"
   ]
  },
  {
   "cell_type": "code",
   "execution_count": 244,
   "metadata": {},
   "outputs": [
    {
     "name": "stderr",
     "output_type": "stream",
     "text": [
      "C:\\Users\\Ale\\Anaconda3\\lib\\site-packages\\ipykernel_launcher.py:2: FutureWarning: 'argmax' is deprecated, use 'idxmax' instead. The behavior of 'argmax'\n",
      "will be corrected to return the positional maximum in the future.\n",
      "Use 'series.values.argmax' to get the position of the maximum now.\n",
      "  \n"
     ]
    },
    {
     "data": {
      "text/plain": [
       "country_code                                   CA\n",
       "count_loans                                     1\n",
       "amount_loans                                50000\n",
       "lent_amount                           7.75041e+07\n",
       "percentage                                 155008\n",
       "difference                            7.74541e+07\n",
       "country_name                               Canada\n",
       "country_code3                                 CAN\n",
       "continent                                Americas\n",
       "region                           Northern America\n",
       "population                               36624199\n",
       "population_below_poverty_line                 9.4\n",
       "hdi                                      0.920284\n",
       "life_expectancy                            82.224\n",
       "expected_years_of_schooling                16.325\n",
       "mean_years_of_schooling                   13.1051\n",
       "gni                                       42581.9\n",
       "kiva_country_name                          Canada\n",
       "ratio                                     2.11483\n",
       "ratio_not_poverty                       0.0233425\n",
       "Name: 24, dtype: object"
      ]
     },
     "execution_count": 244,
     "metadata": {},
     "output_type": "execute_result"
    }
   ],
   "source": [
    "#11) Which country has the highest ratio between the difference computed at point 9 and the population that is not below the poverty line?\n",
    "aggregate_state_extended['ratio_not_poverty'] = aggregate_state_extended['difference'] / (aggregate_state_extended['population'] * (100 - aggregate_state_extended['population_below_poverty_line'] ))\n",
    "aggregate_state_extended.iloc[aggregate_state_extended['ratio_not_poverty'].argmax()]"
   ]
  },
  {
   "cell_type": "code",
   "execution_count": null,
   "metadata": {},
   "outputs": [],
   "source": []
  },
  {
   "cell_type": "code",
   "execution_count": null,
   "metadata": {},
   "outputs": [],
   "source": []
  }
 ],
 "metadata": {
  "kernelspec": {
   "display_name": "Python 3",
   "language": "python",
   "name": "python3"
  },
  "language_info": {
   "codemirror_mode": {
    "name": "ipython",
    "version": 3
   },
   "file_extension": ".py",
   "mimetype": "text/x-python",
   "name": "python",
   "nbconvert_exporter": "python",
   "pygments_lexer": "ipython3",
   "version": "3.7.0"
  }
 },
 "nbformat": 4,
 "nbformat_minor": 2
}
